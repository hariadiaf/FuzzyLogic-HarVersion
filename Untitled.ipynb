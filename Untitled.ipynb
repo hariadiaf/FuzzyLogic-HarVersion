{
 "cells": [
  {
   "cell_type": "code",
   "execution_count": 1,
   "metadata": {},
   "outputs": [
    {
     "data": {
      "text/plain": [
       "-90"
      ]
     },
     "execution_count": 1,
     "metadata": {},
     "output_type": "execute_result"
    }
   ],
   "source": [
    "var1 = -90\n",
    "abs(var1)\n",
    "var1"
   ]
  },
  {
   "cell_type": "code",
   "execution_count": 11,
   "metadata": {},
   "outputs": [
    {
     "name": "stdout",
     "output_type": "stream",
     "text": [
      "[[1, 'medium'], [0, 'medium'], [0.2, 'high'], [0.6, 'high']]\n",
      "high\n",
      "[1, 'medium']\n",
      "1\n"
     ]
    },
    {
     "data": {
      "text/plain": [
       "[[0.2, 'high'], [0.6, 'high']]"
      ]
     },
     "execution_count": 11,
     "metadata": {},
     "output_type": "execute_result"
    }
   ],
   "source": [
    "d = [1, 'medium']\n",
    "s =[0, 'medium']\n",
    "f = [0.2, 'high']\n",
    "o = [0.6, 'high']\n",
    "arr = []\n",
    "arr.append(d)\n",
    "arr.append(s)\n",
    "arr.append(f)\n",
    "arr.append(o)\n",
    "print(arr)\n",
    "print(arr[3][1])\n",
    "tmp = arr[0]\n",
    "print(tmp)\n",
    "tmp_tmp = tmp[0]\n",
    "print(tmp_tmp)\n",
    "arrMed = []\n",
    "arrHigh = []\n",
    "arrNorm  = []\n",
    "for i in range(len(arr)):\n",
    "    if arr[i][1] == 'medium':\n",
    "        arrMed.append(arr[i])\n",
    "    if arr[i][1] == 'high':\n",
    "        arrHigh.append(arr[i])\n",
    "    if arr[i][1] == 'normal':\n",
    "        arrNorm.append(arr[i])\n",
    "#medium \n",
    "for i in range(len)"
   ]
  },
  {
   "cell_type": "code",
   "execution_count": null,
   "metadata": {},
   "outputs": [],
   "source": []
  }
 ],
 "metadata": {
  "kernelspec": {
   "display_name": "Python 3",
   "language": "python",
   "name": "python3"
  },
  "language_info": {
   "codemirror_mode": {
    "name": "ipython",
    "version": 3
   },
   "file_extension": ".py",
   "mimetype": "text/x-python",
   "name": "python",
   "nbconvert_exporter": "python",
   "pygments_lexer": "ipython3",
   "version": "3.6.5"
  }
 },
 "nbformat": 4,
 "nbformat_minor": 2
}
