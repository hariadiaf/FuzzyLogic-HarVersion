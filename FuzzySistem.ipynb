{
 "cells": [
  {
   "cell_type": "code",
   "execution_count": 1,
   "metadata": {},
   "outputs": [],
   "source": [
    "import random\n",
    "import pandas as pd\n",
    "import numpy as np"
   ]
  },
  {
   "cell_type": "code",
   "execution_count": 2,
   "metadata": {},
   "outputs": [
    {
     "data": {
      "text/html": [
       "<div>\n",
       "<style scoped>\n",
       "    .dataframe tbody tr th:only-of-type {\n",
       "        vertical-align: middle;\n",
       "    }\n",
       "\n",
       "    .dataframe tbody tr th {\n",
       "        vertical-align: top;\n",
       "    }\n",
       "\n",
       "    .dataframe thead th {\n",
       "        text-align: right;\n",
       "    }\n",
       "</style>\n",
       "<table border=\"1\" class=\"dataframe\">\n",
       "  <thead>\n",
       "    <tr style=\"text-align: right;\">\n",
       "      <th></th>\n",
       "      <th>id</th>\n",
       "      <th>followerCount</th>\n",
       "      <th>engagementRate</th>\n",
       "    </tr>\n",
       "  </thead>\n",
       "  <tbody>\n",
       "    <tr>\n",
       "      <th>0</th>\n",
       "      <td>1</td>\n",
       "      <td>6207</td>\n",
       "      <td>1.0</td>\n",
       "    </tr>\n",
       "    <tr>\n",
       "      <th>1</th>\n",
       "      <td>2</td>\n",
       "      <td>38237</td>\n",
       "      <td>5.8</td>\n",
       "    </tr>\n",
       "    <tr>\n",
       "      <th>2</th>\n",
       "      <td>3</td>\n",
       "      <td>14840</td>\n",
       "      <td>0.6</td>\n",
       "    </tr>\n",
       "    <tr>\n",
       "      <th>3</th>\n",
       "      <td>4</td>\n",
       "      <td>43851</td>\n",
       "      <td>1.4</td>\n",
       "    </tr>\n",
       "    <tr>\n",
       "      <th>4</th>\n",
       "      <td>5</td>\n",
       "      <td>15530</td>\n",
       "      <td>3.5</td>\n",
       "    </tr>\n",
       "  </tbody>\n",
       "</table>\n",
       "</div>"
      ],
      "text/plain": [
       "   id  followerCount  engagementRate\n",
       "0   1           6207             1.0\n",
       "1   2          38237             5.8\n",
       "2   3          14840             0.6\n",
       "3   4          43851             1.4\n",
       "4   5          15530             3.5"
      ]
     },
     "execution_count": 2,
     "metadata": {},
     "output_type": "execute_result"
    }
   ],
   "source": [
    "dataInflu = pd.read_csv(\"influencers.csv\",)\n",
    "dataFinal = dataInflu.values\n",
    "dataInflu.head()"
   ]
  },
  {
   "cell_type": "markdown",
   "metadata": {},
   "source": [
    "<img src=\"followersFuzzy.png\"/>"
   ]
  },
  {
   "cell_type": "code",
   "execution_count": 3,
   "metadata": {},
   "outputs": [],
   "source": [
    "def clasificationFoll(foll):\n",
    "    resultFoll = []\n",
    "    #bit range\n",
    "    if 0 <= foll <= 33000:\n",
    "        resultFoll.append(['bit',1])\n",
    "    elif 33000 <= foll <= 33500:\n",
    "        resultFoll.append(['bit',-(foll-33500)/(33500-33000)]) #down\n",
    "        \n",
    "    #medium range    \n",
    "    if 33000 <= foll <= 33500:\n",
    "        resultFoll.append(['medium',(foll-33000)/(33500-33000)]) #up\n",
    "    elif 33500 <= foll <= 66500:\n",
    "        resultFoll.append(['medium',1])\n",
    "    elif 66500 <= foll <= 67000:\n",
    "        resultFoll.append(['medium',-(foll-67000)/(67000-66500)]) #down\n",
    "        \n",
    "    #big range    \n",
    "    if 66500 <= foll <= 67000:\n",
    "        resultFoll.append(['big',(foll-66500)/(67000-66500)]) #up\n",
    "    elif 67000 <= foll <= 100000:\n",
    "        resultFoll.append([ 'big',1])\n",
    "    return resultFoll"
   ]
  },
  {
   "cell_type": "code",
   "execution_count": 4,
   "metadata": {},
   "outputs": [],
   "source": [
    "# clasificationFoll(38237)"
   ]
  },
  {
   "cell_type": "markdown",
   "metadata": {},
   "source": [
    "<img src=\"rateFuzzy.png\"/>"
   ]
  },
  {
   "cell_type": "code",
   "execution_count": 5,
   "metadata": {},
   "outputs": [],
   "source": [
    "def clasificationRate(rate):\n",
    "    resultRate = []\n",
    "#     bad range\n",
    "    if 0 <= rate <= 3:\n",
    "        resultRate.append(['bad',1])\n",
    "    elif 3 <= rate <= 3.5:\n",
    "        resultRate.append(['bad',-(rate-3.5)/(3.5-3)]) #down  \n",
    "        \n",
    "    #normal range\n",
    "    if 3 <= rate <= 3.5:\n",
    "        resultRate.append(['normal',(rate-3)/(3.5-3)]) #up\n",
    "    elif 3.5 <= rate <= 6.5:\n",
    "        resultRate.append(['normal',1])\n",
    "    elif 6.5 <= rate <= 7:\n",
    "        resultRate.append(['normal',-(rate-7)/(7-6.5)]) #down\n",
    "        \n",
    "    #good range  \n",
    "    if 6.5 <= rate <= 7:\n",
    "        resultRate.append(['good',(rate-6.5)/(7-6.5)]) #up\n",
    "    elif 7 <= rate <= 10:\n",
    "        resultRate.append(['good',1])\n",
    "    return resultRate"
   ]
  },
  {
   "cell_type": "code",
   "execution_count": 6,
   "metadata": {},
   "outputs": [],
   "source": [
    "# clasificationRate(5.8)"
   ]
  },
  {
   "cell_type": "markdown",
   "metadata": {},
   "source": [
    "<img src=\"truthTable.png\"/>"
   ]
  },
  {
   "cell_type": "code",
   "execution_count": 7,
   "metadata": {},
   "outputs": [],
   "source": [
    "def truthTable(fuzzy1,fuzzy2):\n",
    "    if (fuzzy1=='bit') and (fuzzy2=='bad'):\n",
    "        answer = 'low'\n",
    "    elif (fuzzy1=='bit') and (fuzzy2=='normal'):\n",
    "        answer = 'low'\n",
    "    elif (fuzzy1=='bit') and (fuzzy2=='good'):\n",
    "        answer = 'strong'\n",
    "    elif (fuzzy1=='medium') and (fuzzy2=='bad'):\n",
    "        answer = 'low'\n",
    "    elif (fuzzy1=='medium') and (fuzzy2=='normal'):\n",
    "        answer = 'low'\n",
    "    elif (fuzzy1=='medium') and (fuzzy2=='good'):\n",
    "        answer = 'strong'\n",
    "    elif (fuzzy1=='big') and (fuzzy2=='bad'):\n",
    "        answer = 'low'\n",
    "    elif (fuzzy1=='big') and (fuzzy2=='normal'):\n",
    "        answer = 'strong'\n",
    "    elif(fuzzy1=='big') and (fuzzy2=='good'):\n",
    "        answer = 'strong'\n",
    "    else:\n",
    "        answer = 'unknow!'\n",
    "    return answer"
   ]
  },
  {
   "cell_type": "code",
   "execution_count": 8,
   "metadata": {},
   "outputs": [],
   "source": [
    "def inference(fuzzy1,fuzzy2):\n",
    "    result = []\n",
    "        \n",
    "    if fuzzy1[0][1] < fuzzy2[0][1]:\n",
    "        result.append([fuzzy1[0][1],truthTable(fuzzy1[0][0],fuzzy2[0][0])])\n",
    "    else:\n",
    "        result.append([fuzzy2[0][1],truthTable(fuzzy1[0][0],fuzzy2[0][0])])\n",
    "        \n",
    "    if len(fuzzy2) > 1:\n",
    "        if fuzzy1[0][1] < fuzzy2[1][1]:\n",
    "            result.append([fuzzy1[0][1],truthTable(fuzzy1[0][0],fuzzy2[1][0])])\n",
    "        else:\n",
    "            result.append([fuzzy2[1][1],truthTable(fuzzy1[0][0],fuzzy2[1][0])])\n",
    "    \n",
    "    if len(fuzzy1) > 1:\n",
    "        if fuzzy1[1][1] < fuzzy2[0][1]:\n",
    "            result.append([fuzzy1[1][1],truthTable(fuzzy1[1][0],fuzzy2[0][0])])\n",
    "        else:\n",
    "            result.append([fuzzy2[0][1],truthTable(fuzzy1[1][0],fuzzy2[0][0])])\n",
    "\n",
    "    if len(fuzzy1) > 1 and len(fuzzy2) >1 :\n",
    "        if fuzzy1[1][1] < fuzzy2[1][1]:\n",
    "            result.append([fuzzy1[1][1],truthTable(fuzzy1[1][0],fuzzy2[1][0])])\n",
    "        else:\n",
    "            result.append([fuzzy2[1][1],truthTable(fuzzy1[1][0],fuzzy2[1][0])])\n",
    "#     print(result)    \n",
    "    #selection\n",
    "    dataTes = result\n",
    "        \n",
    "    arrTemp = []\n",
    "    strongTemp = [-1,'unknow']\n",
    "    truthTemp = []\n",
    "    lowTemp = [-1,'unknow']\n",
    "    pLow = 0 #pointer\n",
    "    cLow = 0 #counter\n",
    "\n",
    "    pStrong = 0 #pointer\n",
    "    cStrong = 0 #counter\n",
    "\n",
    "    for i in range(len(dataTes)):\n",
    "        if i==0:\n",
    "            truthTemp = [-1,'unknow']\n",
    "    #     print('nilai awal truth ke ',i)\n",
    "    #     print()\n",
    "        for j in range(len(dataTes)):\n",
    "            j = j+1\n",
    "    #         print('nilai j =',j)\n",
    "    #         print('test ',dataTes[i][0], truthTemp[0],'--',dataTes[i][1], truthTemp[1])\n",
    "            if dataTes[i][0] > truthTemp[0] or dataTes[i][1] != truthTemp[1]:\n",
    "    #             print('masuk')\n",
    "                if dataTes[i][1] == 'low':\n",
    "                    if dataTes[i][0]>dataTes[pLow][0] or cLow==0:\n",
    "                        lowTemp = dataTes[i]\n",
    "                        truthTemp = dataTes[i]\n",
    "                        pLow = i\n",
    "                        cLow = cLow+1\n",
    "\n",
    "    #                     print('lowTemp = ',lowTemp)\n",
    "\n",
    "                elif dataTes[i][1] == 'strong':\n",
    "    #                 print(dataTes[i][0],'>', dataTes[pStrong][0]) \n",
    "                    if dataTes[i][0]>dataTes[pStrong][0] or cStrong==0:\n",
    "                        strongTemp = dataTes[i]\n",
    "                        truthTemp = dataTes[i]\n",
    "                        pStrong = i\n",
    "                        cStrong = cStrong+1\n",
    "    #                     print('strongTemp = ',strongTemp)\n",
    "    if lowTemp[1]!='unknow':\n",
    "        arrTemp.append(lowTemp)\n",
    "    if strongTemp[1]!='unknow':\n",
    "        arrTemp.append(strongTemp)\n",
    "\n",
    "#     len(dataTes)\n",
    "#     print(lowTemp,strongTemp)\n",
    "    arrTemp\n",
    "    return arrTemp"
   ]
  },
  {
   "cell_type": "markdown",
   "metadata": {},
   "source": [
    "<img src=\"defuzzy.png\"/>"
   ]
  },
  {
   "cell_type": "code",
   "execution_count": 9,
   "metadata": {},
   "outputs": [],
   "source": [
    "def clasificationDefuzzy(deff):\n",
    "    resultDeff = []\n",
    "#     low range\n",
    "    if 0 <= deff <= 45:\n",
    "        resultDeff.append(1)\n",
    "    elif 45 <= deff <= 55:\n",
    "        resultDeff.append(-(deff-55)/(55-45)) #down   \n",
    "    \n",
    "    if 0<= deff <= 44:\n",
    "        resultDeff.append(0)\n",
    "        \n",
    "    #strong range  \n",
    "    if 45 <= deff <= 55:\n",
    "        resultDeff.append((deff-45)/(55-45)) #up\n",
    "    elif 55 <= deff <= 100:\n",
    "        resultDeff.append(0)\n",
    "        resultDeff.append(1)\n",
    "    return resultDeff"
   ]
  },
  {
   "cell_type": "code",
   "execution_count": 10,
   "metadata": {},
   "outputs": [],
   "source": [
    "def defuzzyfication(resultInference):\n",
    "    arr = []\n",
    "    index = []\n",
    "    arrTemp = []\n",
    "    arrFinal = []\n",
    "    for i in range(7,100,4):\n",
    "        arr.append(clasificationDefuzzy(i))\n",
    "        index.append(i)\n",
    "\n",
    "    for i in range(len(arr)):\n",
    "    #     print(arr[i][0],' >' ,resultInference[0][0])\n",
    "        if arr[i][0] > resultInference[0][0]:\n",
    "            arr[i][0] = resultInference[0][0]\n",
    "        \n",
    "        if len(resultInference) > 1:\n",
    "            if arr[i][1] > resultInference[1][0]:\n",
    "                arr[i][1] = resultInference[1][0]\n",
    "    #         print(index[i], arr[i])\n",
    "        if arr[i][0] >= arr[i][1]:\n",
    "            arrTemp.append(arr[i][0])\n",
    "        else:\n",
    "            arrTemp.append(arr[i][1])\n",
    "        resTemp = arrTemp[i]*index[i]\n",
    "        arrFinal.append(resTemp)\n",
    "\n",
    "#     print(arrFinal)\n",
    "    a = np.sum(arrTemp)\n",
    "    b = np.sum(arrFinal)\n",
    "    result = b/a\n",
    "#     print(result)\n",
    "    return result"
   ]
  },
  {
   "cell_type": "code",
   "execution_count": 11,
   "metadata": {},
   "outputs": [],
   "source": [
    "# print(defuzzyfication(resultInference))"
   ]
  },
  {
   "cell_type": "code",
   "execution_count": 12,
   "metadata": {},
   "outputs": [
    {
     "name": "stdout",
     "output_type": "stream",
     "text": [
      "[90, 79, 75, 52, 35, 12, 5, 99, 94, 66, 50, 26, 10, 7, 61, 98, 97, 96, 95, 93]\n"
     ]
    }
   ],
   "source": [
    "#main Program\n",
    "follCount = []\n",
    "rate = []\n",
    "result = []\n",
    "record = []\n",
    "for i in range (len(dataFinal)):\n",
    "#     print(dataFinal[i][1], ' - ',dataFinal[i][2])\n",
    "    follCount.append(dataFinal[i][1])\n",
    "    rate.append(dataFinal[i][2])\n",
    "    \n",
    "    fuzzy1 = clasificationFoll(follCount[i])\n",
    "    fuzzy2 = clasificationRate(rate[i])\n",
    "    resultInference = inference(fuzzy1,fuzzy2)\n",
    "    \n",
    "    resultDefuzzy = defuzzyfication(resultInference)\n",
    "#     print(round(resultDefuzzy))\n",
    "    result.append([resultDefuzzy,i])\n",
    "\n",
    "result.sort(reverse = True)\n",
    "for i in range(len(result)):\n",
    "#     print(result[i][1])\n",
    "    record.append(result[i][1])\n",
    "print(record[0:20])\n",
    "pd.DataFrame(record[0:20]).to_csv(\"chosen.csv\")"
   ]
  },
  {
   "cell_type": "code",
   "execution_count": null,
   "metadata": {},
   "outputs": [],
   "source": []
  }
 ],
 "metadata": {
  "kernelspec": {
   "display_name": "Python 3",
   "language": "python",
   "name": "python3"
  },
  "language_info": {
   "codemirror_mode": {
    "name": "ipython",
    "version": 3
   },
   "file_extension": ".py",
   "mimetype": "text/x-python",
   "name": "python",
   "nbconvert_exporter": "python",
   "pygments_lexer": "ipython3",
   "version": "3.6.5"
  }
 },
 "nbformat": 4,
 "nbformat_minor": 2
}
